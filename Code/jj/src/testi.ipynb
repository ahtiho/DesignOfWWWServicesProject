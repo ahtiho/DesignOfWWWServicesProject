{
 "cells": [
  {
   "cell_type": "code",
   "execution_count": null,
   "metadata": {},
   "outputs": [],
   "source": [
    "def component():\n",
    "\n",
    "    # komponentin muut asiat\n",
    "    filterit = handleFilterChange(filterName, FilterValue)\n",
    "    filtered_data = filterData(jsonData, filterit)"
   ]
  },
  {
   "cell_type": "code",
   "execution_count": null,
   "metadata": {},
   "outputs": [],
   "source": []
  }
 ],
 "metadata": {
  "language_info": {
   "name": "python"
  },
  "orig_nbformat": 4
 },
 "nbformat": 4,
 "nbformat_minor": 2
}
